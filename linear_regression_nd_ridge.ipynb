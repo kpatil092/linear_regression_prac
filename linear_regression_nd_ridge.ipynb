{
 "cells": [
  {
   "cell_type": "code",
   "execution_count": 1,
   "id": "fc310d0f",
   "metadata": {},
   "outputs": [],
   "source": [
    "import numpy as np\n",
    "import matplotlib.pyplot as plt"
   ]
  },
  {
   "cell_type": "code",
   "execution_count": 17,
   "id": "e9b4cac1",
   "metadata": {},
   "outputs": [],
   "source": [
    "np.random.seed(42)\n",
    "N, d= 100000, 3\n",
    "X = np.random.randn(N, d)\n",
    "true_w = np.array([3, -2, 1])\n",
    "true_b = 9\n",
    "noise = np.random.randn(1)\n",
    "y = X @ true_w + true_b + noise\n"
   ]
  },
  {
   "cell_type": "code",
   "execution_count": 18,
   "id": "d81cc183",
   "metadata": {},
   "outputs": [],
   "source": [
    "def mse(y, y_pred):\n",
    "  return np.mean((y - y_pred) ** 2)"
   ]
  },
  {
   "cell_type": "code",
   "execution_count": 19,
   "id": "4bad8b4b",
   "metadata": {},
   "outputs": [],
   "source": [
    "def train_test_split(X, y, test_size=0.2):\n",
    "  N = len(y)\n",
    "  idx = np.arange(N)\n",
    "  np.random.shuffle(idx)\n",
    "  test_size = int(test_size * N)\n",
    "\n",
    "  test_idx = idx[:test_size]\n",
    "  train_idx = idx[test_size:]\n",
    "\n",
    "  X_train, y_train = X[train_idx], y[train_idx]\n",
    "  X_test, y_test = X[test_idx], y[test_idx]\n",
    "\n",
    "  return X_train, y_train, X_test, y_test"
   ]
  },
  {
   "cell_type": "code",
   "execution_count": 28,
   "id": "ae107a34",
   "metadata": {},
   "outputs": [],
   "source": [
    "def train_model(X, y, lr=0.01, epochs=500, lambda_=0.1):\n",
    "  N, d = X.shape\n",
    "  w = np.random.randn(d)\n",
    "  b = np.random.randn()\n",
    "  loss_history = []\n",
    "\n",
    "  for epoch in range(epochs):\n",
    "    y_pred = X @ w + b\n",
    "    loss = mse(y, y_pred)\n",
    "    loss_history.append(loss)\n",
    "\n",
    "    dw = (2/N) * (X.T @ (y_pred - y)) + (2 * lambda_  * np.sum(w ** 2) )\n",
    "    db = (2/N) * np.sum(y_pred - y)\n",
    "\n",
    "    w -= lr * dw\n",
    "    b -= lr * db\n",
    "\n",
    "    # if epoch % 10 == 0:\n",
    "    #   print(f\"Epoch {epoch}: Loss = {loss:.4f}, w = {w}, b = {b:.4f}\")\n",
    "\n",
    "  return w, b, loss_history"
   ]
  },
  {
   "cell_type": "code",
   "execution_count": 29,
   "id": "368758fb",
   "metadata": {},
   "outputs": [],
   "source": [
    "def predict(X, w, b):\n",
    "  return X @ w + b"
   ]
  },
  {
   "cell_type": "code",
   "execution_count": 30,
   "id": "3215368a",
   "metadata": {},
   "outputs": [],
   "source": [
    "X_train, y_train, X_test, y_test = train_test_split(X, y, test_size=0.2)"
   ]
  },
  {
   "cell_type": "code",
   "execution_count": 31,
   "id": "a6fa67a1",
   "metadata": {},
   "outputs": [
    {
     "name": "stdout",
     "output_type": "stream",
     "text": [
      "Lambda = 0.0\n",
      "  Learned w = [ 2.99986479 -1.99996097  0.99994807], b = 7.600\n",
      "  True w = [ 3 -2  1], b = 9.000\n",
      "  Test Loss = 0.0000\n",
      "Lambda = 0.1\n",
      "  Learned w = [ 1.5701427  -3.42008597 -0.42329312], b = 7.605\n",
      "  True w = [ 3 -2  1], b = 9.000\n",
      "  Test Loss = 6.0449\n"
     ]
    },
    {
     "name": "stderr",
     "output_type": "stream",
     "text": [
      "C:\\Users\\patil\\AppData\\Local\\Temp\\ipykernel_9908\\2890706606.py:2: RuntimeWarning: overflow encountered in square\n",
      "  return np.mean((y - y_pred) ** 2)\n",
      "C:\\Users\\patil\\AppData\\Local\\Temp\\ipykernel_9908\\3986037498.py:12: RuntimeWarning: overflow encountered in square\n",
      "  dw = (2/N) * (X.T @ (y_pred - y)) + (2 * lambda_  * np.sum(w ** 2) )\n",
      "C:\\Users\\patil\\AppData\\Local\\Temp\\ipykernel_9908\\3986037498.py:8: RuntimeWarning: invalid value encountered in matmul\n",
      "  y_pred = X @ w + b\n",
      "C:\\Users\\patil\\AppData\\Roaming\\Python\\Python312\\site-packages\\numpy\\_core\\fromnumeric.py:86: RuntimeWarning: invalid value encountered in reduce\n",
      "  return ufunc.reduce(obj, axis, dtype, out, **passkwargs)\n"
     ]
    },
    {
     "name": "stdout",
     "output_type": "stream",
     "text": [
      "Lambda = 1.0\n",
      "  Learned w = [nan nan nan], b = nan\n",
      "  True w = [ 3 -2  1], b = 9.000\n",
      "  Test Loss = nan\n",
      "Lambda = 10\n",
      "  Learned w = [nan nan nan], b = nan\n",
      "  True w = [ 3 -2  1], b = 9.000\n",
      "  Test Loss = nan\n"
     ]
    },
    {
     "data": {
      "image/png": "[encoded data removed]",
      "text/plain": [
       "<Figure size 640x480 with 1 Axes>"
      ]
     },
     "metadata": {},
     "output_type": "display_data"
    }
   ],
   "source": [
    "for l in [0.0, 0.1, 1.0, 10]:\n",
    "  w, b, loss_history = train_model(X_train, y_train, lambda_=l)\n",
    "  y_pred = predict(X_test, w, b)\n",
    "  test_loss = mse(y_test, y_pred)\n",
    "  print(f\"Lambda = {l}\")\n",
    "  print(f\"  Learned w = {w}, b = {b:.3f}\")\n",
    "  print(f\"  True w = {true_w}, b = {true_b:.3f}\")\n",
    "  print(f\"  Test Loss = {test_loss:.4f}\")\n",
    "\n",
    "  plt.plot(loss_history, label=f\"λ={l}\")\n",
    "\n",
    "\n",
    "plt.xlabel(\"Epochs\")\n",
    "plt.ylabel(\"Loss (MSE + Ridge penalty)\")\n",
    "plt.title(\"Training Loss with Different Ridge Penalties\")\n",
    "plt.legend()\n",
    "plt.show()"
   ]
  },
  {
   "cell_type": "code",
   "execution_count": null,
   "id": "33b3b61d",
   "metadata": {},
   "outputs": [],
   "source": []
  }
 ],
 "metadata": {
  "kernelspec": {
   "display_name": "Python 3",
   "language": "python",
   "name": "python3"
  },
  "language_info": {
   "codemirror_mode": {
    "name": "ipython",
    "version": 3
   },
   "file_extension": ".py",
   "mimetype": "text/x-python",
   "name": "python",
   "nbconvert_exporter": "python",
   "pygments_lexer": "ipython3",
   "version": "3.12.6"
  }
 },
 "nbformat": 4,
 "nbformat_minor": 5
}
