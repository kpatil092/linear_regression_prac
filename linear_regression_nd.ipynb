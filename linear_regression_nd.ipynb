{
 "cells": [
  {
   "cell_type": "code",
   "execution_count": 9,
   "id": "e31fe174",
   "metadata": {},
   "outputs": [],
   "source": [
    "import numpy as np\n",
    "import matplotlib.pyplot as plt"
   ]
  },
  {
   "cell_type": "code",
   "execution_count": 22,
   "id": "22942fba",
   "metadata": {},
   "outputs": [],
   "source": [
    "# Generate synthetic data\n",
    "np.random.seed(42)\n",
    "N, d= 100000, 3\n",
    "X = 2 * np.random.randn(N, d)\n",
    "true_w = np.array([3, -2, 1])\n",
    "true_b = 4\n",
    "noise = np.random.randn(1)\n",
    "y = X @ true_w + true_b + noise\n"
   ]
  },
  {
   "cell_type": "code",
   "execution_count": null,
   "id": "4ead3453",
   "metadata": {},
   "outputs": [
    {
     "name": "stdout",
     "output_type": "stream",
     "text": [
      "Initial w: [ 0.54782276 -0.12076232 -0.28326376], b: 0.767569216026865\n"
     ]
    }
   ],
   "source": [
    "# Initialize parameters\n",
    "w, b = np.random.randn(d), np.random.randn()\n",
    "print(f\"Initial w: {w}, b: {b}\")\n",
    "lr = 0.1\n",
    "epochs = 100"
   ]
  },
  {
   "cell_type": "code",
   "execution_count": 24,
   "id": "fdef2d7e",
   "metadata": {},
   "outputs": [
    {
     "name": "stdout",
     "output_type": "stream",
     "text": [
      "Epoch 0: Loss = 47.8809, w = [ 2.50000045 -1.61637166  0.73391186], b = 1.1349\n",
      "Epoch 10: Loss = 0.0387, w = [ 2.99993841 -2.00007189  1.00018063], b = 2.4429\n",
      "Epoch 20: Loss = 0.0004, w = [ 2.99999339 -2.00000772  1.0000194 ], b = 2.5833\n",
      "Epoch 30: Loss = 0.0000, w = [ 2.99999929 -2.00000083  1.00000208], b = 2.5984\n",
      "Epoch 40: Loss = 0.0000, w = [ 2.99999992 -2.00000009  1.00000022], b = 2.6000\n",
      "Epoch 50: Loss = 0.0000, w = [ 2.99999999 -2.00000001  1.00000002], b = 2.6002\n",
      "Epoch 60: Loss = 0.0000, w = [ 3. -2.  1.], b = 2.6002\n",
      "Epoch 70: Loss = 0.0000, w = [ 3. -2.  1.], b = 2.6002\n",
      "Epoch 80: Loss = 0.0000, w = [ 3. -2.  1.], b = 2.6002\n",
      "Epoch 90: Loss = 0.0000, w = [ 3. -2.  1.], b = 2.6002\n",
      "Epoch 100: Loss = 0.0000, w = [ 3. -2.  1.], b = 2.6002\n",
      "Epoch 110: Loss = 0.0000, w = [ 3. -2.  1.], b = 2.6002\n",
      "Epoch 120: Loss = 0.0000, w = [ 3. -2.  1.], b = 2.6002\n",
      "Epoch 130: Loss = 0.0000, w = [ 3. -2.  1.], b = 2.6002\n",
      "Epoch 140: Loss = 0.0000, w = [ 3. -2.  1.], b = 2.6002\n",
      "Epoch 150: Loss = 0.0000, w = [ 3. -2.  1.], b = 2.6002\n",
      "Epoch 160: Loss = 0.0000, w = [ 3. -2.  1.], b = 2.6002\n",
      "Epoch 170: Loss = 0.0000, w = [ 3. -2.  1.], b = 2.6002\n",
      "Epoch 180: Loss = 0.0000, w = [ 3. -2.  1.], b = 2.6002\n",
      "Epoch 190: Loss = 0.0000, w = [ 3. -2.  1.], b = 2.6002\n",
      "Epoch 200: Loss = 0.0000, w = [ 3. -2.  1.], b = 2.6002\n",
      "Epoch 210: Loss = 0.0000, w = [ 3. -2.  1.], b = 2.6002\n",
      "Epoch 220: Loss = 0.0000, w = [ 3. -2.  1.], b = 2.6002\n",
      "Epoch 230: Loss = 0.0000, w = [ 3. -2.  1.], b = 2.6002\n",
      "Epoch 240: Loss = 0.0000, w = [ 3. -2.  1.], b = 2.6002\n",
      "Epoch 250: Loss = 0.0000, w = [ 3. -2.  1.], b = 2.6002\n",
      "Epoch 260: Loss = 0.0000, w = [ 3. -2.  1.], b = 2.6002\n",
      "Epoch 270: Loss = 0.0000, w = [ 3. -2.  1.], b = 2.6002\n",
      "Epoch 280: Loss = 0.0000, w = [ 3. -2.  1.], b = 2.6002\n",
      "Epoch 290: Loss = 0.0000, w = [ 3. -2.  1.], b = 2.6002\n",
      "Epoch 300: Loss = 0.0000, w = [ 3. -2.  1.], b = 2.6002\n",
      "Epoch 310: Loss = 0.0000, w = [ 3. -2.  1.], b = 2.6002\n",
      "Epoch 320: Loss = 0.0000, w = [ 3. -2.  1.], b = 2.6002\n",
      "Epoch 330: Loss = 0.0000, w = [ 3. -2.  1.], b = 2.6002\n",
      "Epoch 340: Loss = 0.0000, w = [ 3. -2.  1.], b = 2.6002\n",
      "Epoch 350: Loss = 0.0000, w = [ 3. -2.  1.], b = 2.6002\n",
      "Epoch 360: Loss = 0.0000, w = [ 3. -2.  1.], b = 2.6002\n",
      "Epoch 370: Loss = 0.0000, w = [ 3. -2.  1.], b = 2.6002\n",
      "Epoch 380: Loss = 0.0000, w = [ 3. -2.  1.], b = 2.6002\n",
      "Epoch 390: Loss = 0.0000, w = [ 3. -2.  1.], b = 2.6002\n",
      "Epoch 400: Loss = 0.0000, w = [ 3. -2.  1.], b = 2.6002\n",
      "Epoch 410: Loss = 0.0000, w = [ 3. -2.  1.], b = 2.6002\n",
      "Epoch 420: Loss = 0.0000, w = [ 3. -2.  1.], b = 2.6002\n",
      "Epoch 430: Loss = 0.0000, w = [ 3. -2.  1.], b = 2.6002\n",
      "Epoch 440: Loss = 0.0000, w = [ 3. -2.  1.], b = 2.6002\n",
      "Epoch 450: Loss = 0.0000, w = [ 3. -2.  1.], b = 2.6002\n",
      "Epoch 460: Loss = 0.0000, w = [ 3. -2.  1.], b = 2.6002\n",
      "Epoch 470: Loss = 0.0000, w = [ 3. -2.  1.], b = 2.6002\n",
      "Epoch 480: Loss = 0.0000, w = [ 3. -2.  1.], b = 2.6002\n",
      "Epoch 490: Loss = 0.0000, w = [ 3. -2.  1.], b = 2.6002\n",
      "Epoch 500: Loss = 0.0000, w = [ 3. -2.  1.], b = 2.6002\n",
      "Epoch 510: Loss = 0.0000, w = [ 3. -2.  1.], b = 2.6002\n",
      "Epoch 520: Loss = 0.0000, w = [ 3. -2.  1.], b = 2.6002\n",
      "Epoch 530: Loss = 0.0000, w = [ 3. -2.  1.], b = 2.6002\n",
      "Epoch 540: Loss = 0.0000, w = [ 3. -2.  1.], b = 2.6002\n",
      "Epoch 550: Loss = 0.0000, w = [ 3. -2.  1.], b = 2.6002\n",
      "Epoch 560: Loss = 0.0000, w = [ 3. -2.  1.], b = 2.6002\n",
      "Epoch 570: Loss = 0.0000, w = [ 3. -2.  1.], b = 2.6002\n",
      "Epoch 580: Loss = 0.0000, w = [ 3. -2.  1.], b = 2.6002\n",
      "Epoch 590: Loss = 0.0000, w = [ 3. -2.  1.], b = 2.6002\n",
      "Epoch 600: Loss = 0.0000, w = [ 3. -2.  1.], b = 2.6002\n",
      "Epoch 610: Loss = 0.0000, w = [ 3. -2.  1.], b = 2.6002\n",
      "Epoch 620: Loss = 0.0000, w = [ 3. -2.  1.], b = 2.6002\n",
      "Epoch 630: Loss = 0.0000, w = [ 3. -2.  1.], b = 2.6002\n",
      "Epoch 640: Loss = 0.0000, w = [ 3. -2.  1.], b = 2.6002\n",
      "Epoch 650: Loss = 0.0000, w = [ 3. -2.  1.], b = 2.6002\n",
      "Epoch 660: Loss = 0.0000, w = [ 3. -2.  1.], b = 2.6002\n",
      "Epoch 670: Loss = 0.0000, w = [ 3. -2.  1.], b = 2.6002\n",
      "Epoch 680: Loss = 0.0000, w = [ 3. -2.  1.], b = 2.6002\n",
      "Epoch 690: Loss = 0.0000, w = [ 3. -2.  1.], b = 2.6002\n",
      "Epoch 700: Loss = 0.0000, w = [ 3. -2.  1.], b = 2.6002\n",
      "Epoch 710: Loss = 0.0000, w = [ 3. -2.  1.], b = 2.6002\n",
      "Epoch 720: Loss = 0.0000, w = [ 3. -2.  1.], b = 2.6002\n",
      "Epoch 730: Loss = 0.0000, w = [ 3. -2.  1.], b = 2.6002\n",
      "Epoch 740: Loss = 0.0000, w = [ 3. -2.  1.], b = 2.6002\n",
      "Epoch 750: Loss = 0.0000, w = [ 3. -2.  1.], b = 2.6002\n",
      "Epoch 760: Loss = 0.0000, w = [ 3. -2.  1.], b = 2.6002\n",
      "Epoch 770: Loss = 0.0000, w = [ 3. -2.  1.], b = 2.6002\n",
      "Epoch 780: Loss = 0.0000, w = [ 3. -2.  1.], b = 2.6002\n",
      "Epoch 790: Loss = 0.0000, w = [ 3. -2.  1.], b = 2.6002\n",
      "Epoch 800: Loss = 0.0000, w = [ 3. -2.  1.], b = 2.6002\n",
      "Epoch 810: Loss = 0.0000, w = [ 3. -2.  1.], b = 2.6002\n",
      "Epoch 820: Loss = 0.0000, w = [ 3. -2.  1.], b = 2.6002\n",
      "Epoch 830: Loss = 0.0000, w = [ 3. -2.  1.], b = 2.6002\n",
      "Epoch 840: Loss = 0.0000, w = [ 3. -2.  1.], b = 2.6002\n",
      "Epoch 850: Loss = 0.0000, w = [ 3. -2.  1.], b = 2.6002\n",
      "Epoch 860: Loss = 0.0000, w = [ 3. -2.  1.], b = 2.6002\n",
      "Epoch 870: Loss = 0.0000, w = [ 3. -2.  1.], b = 2.6002\n",
      "Epoch 880: Loss = 0.0000, w = [ 3. -2.  1.], b = 2.6002\n",
      "Epoch 890: Loss = 0.0000, w = [ 3. -2.  1.], b = 2.6002\n",
      "Epoch 900: Loss = 0.0000, w = [ 3. -2.  1.], b = 2.6002\n",
      "Epoch 910: Loss = 0.0000, w = [ 3. -2.  1.], b = 2.6002\n",
      "Epoch 920: Loss = 0.0000, w = [ 3. -2.  1.], b = 2.6002\n",
      "Epoch 930: Loss = 0.0000, w = [ 3. -2.  1.], b = 2.6002\n",
      "Epoch 940: Loss = 0.0000, w = [ 3. -2.  1.], b = 2.6002\n",
      "Epoch 950: Loss = 0.0000, w = [ 3. -2.  1.], b = 2.6002\n",
      "Epoch 960: Loss = 0.0000, w = [ 3. -2.  1.], b = 2.6002\n",
      "Epoch 970: Loss = 0.0000, w = [ 3. -2.  1.], b = 2.6002\n",
      "Epoch 980: Loss = 0.0000, w = [ 3. -2.  1.], b = 2.6002\n",
      "Epoch 990: Loss = 0.0000, w = [ 3. -2.  1.], b = 2.6002\n"
     ]
    }
   ],
   "source": [
    "loss_history = []\n",
    "for epoch in range(epochs):\n",
    "    # Predictions (mean of Gaussian)\n",
    "    y_pred = X @ w + b\n",
    "    \n",
    "    loss = np.mean((y_pred - y) ** 2)\n",
    "    loss_history.append(loss)\n",
    "    \n",
    "    # Gradients\n",
    "    dw = (2/N) * (X.T @ (y_pred - y))   # vectorized gradient for weights\n",
    "    db = (2/N) * np.sum(y_pred - y)\n",
    "    \n",
    "    # Parameter update\n",
    "    w -= lr * dw\n",
    "    b -= lr * db\n",
    "    \n",
    "    if epoch % 10 == 0:\n",
    "        print(f\"Epoch {epoch}: Loss = {loss:.4f}, w = {w}, b = {b:.4f}\")"
   ]
  },
  {
   "cell_type": "code",
   "execution_count": 25,
   "id": "53eb3aad",
   "metadata": {},
   "outputs": [
    {
     "data": {
      "image/png": "[encoded data removed]",
      "text/plain": [
       "<Figure size 640x480 with 1 Axes>"
      ]
     },
     "metadata": {},
     "output_type": "display_data"
    }
   ],
   "source": [
    "plt.plot(loss_history)\n",
    "plt.xlabel(\"Epochs\")\n",
    "plt.ylabel(\"MSE Loss\")\n",
    "plt.title(\"Training Loss over Time (Multivariate)\")\n",
    "plt.show()"
   ]
  },
  {
   "cell_type": "code",
   "execution_count": 26,
   "id": "cc1513f9",
   "metadata": {},
   "outputs": [
    {
     "name": "stdout",
     "output_type": "stream",
     "text": [
      "Estimated parameters: w=[ 3. -2.  1.], b=2.600\n",
      "True parameters:      w=[ 3 -2  1], b=4\n"
     ]
    }
   ],
   "source": [
    "print(f\"Estimated parameters: w={w}, b={b:.3f}\")\n",
    "print(f\"True parameters:      w={true_w}, b={true_b}\")"
   ]
  },
  {
   "cell_type": "code",
   "execution_count": null,
   "id": "f26e2349",
   "metadata": {},
   "outputs": [],
   "source": []
  }
 ],
 "metadata": {
  "kernelspec": {
   "display_name": "Python 3",
   "language": "python",
   "name": "python3"
  },
  "language_info": {
   "codemirror_mode": {
    "name": "ipython",
    "version": 3
   },
   "file_extension": ".py",
   "mimetype": "text/x-python",
   "name": "python",
   "nbconvert_exporter": "python",
   "pygments_lexer": "ipython3",
   "version": "3.12.6"
  }
 },
 "nbformat": 4,
 "nbformat_minor": 5
}
